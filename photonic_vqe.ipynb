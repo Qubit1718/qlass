{
 "cells": [
  {
   "cell_type": "markdown",
   "metadata": {},
   "source": [
    "## Photonic VQE simulations using Qiskit circuits or a parametrized unitary"
   ]
  },
  {
   "cell_type": "code",
   "execution_count": 1,
   "metadata": {},
   "outputs": [],
   "source": [
    "import perceval as pcvl\n",
    "import perceval.components as comp\n",
    "from perceval.algorithm import Sampler\n",
    "\n",
    "from qlass.utils import loss_function, rotate_qubits\n",
    "from qlass.vqe import le_ansatz\n",
    "\n",
    "import warnings\n",
    "warnings.simplefilter('ignore')\n",
    "warnings.filterwarnings('ignore')\n",
    "\n",
    "from scipy.optimize import minimize\n",
    "from tqdm import tqdm\n",
    "import matplotlib.pyplot as plt\n",
    "import numpy as np"
   ]
  },
  {
   "cell_type": "markdown",
   "metadata": {},
   "source": [
    "In the following cell, we have a few Hamiltonians from the H2 molecule that we can use to simulate our VQE. The Hamiltonians are obtained from [this paper](https://www.nature.com/articles/ncomms5213)."
   ]
  },
  {
   "cell_type": "code",
   "execution_count": 2,
   "metadata": {},
   "outputs": [],
   "source": [
    "Hamiltonian_elem = np.load('hamiltonian_elem.npy')\n",
    "\n",
    "Hamiltonian_coef = np.load('hamiltonian_coef.npy')\n",
    "\n",
    "# Building the Hamiltonian H[0] = Radius, H[1] = H(Radius)\n",
    "H1 = []\n",
    "(n,m) = Hamiltonian_coef.shape\n",
    "for i in range(n):  # i = Radius\n",
    "    h_0 = 1.0 * np.matrix(Hamiltonian_elem[0])\n",
    "    for j in range(1, m):\n",
    "        h_0 += Hamiltonian_coef[i,j] * np.matrix(Hamiltonian_elem[j])\n",
    "    H1.append([Hamiltonian_coef[i,0], h_0])\n",
    "\n",
    "H = H1\n",
    "\n",
    "E1_th = []\n",
    "for h in H:\n",
    "    l0 = np.linalg.eigvals(h[1])\n",
    "    l0.sort()\n",
    "    E1_th.append(min(l0))\n",
    "\n",
    "\n",
    "def hamiltonian_dictionary(h):\n",
    "    \"\"\"\n",
    "    Convert a 2-qubit Hamiltonian from array form to a dictionary.\n",
    "\n",
    "    Args:\n",
    "    h (np.ndarray): 2-qubit Hamiltonian in array form\n",
    "\n",
    "    Returns:\n",
    "    Dict[str, float]: Dictionary with Pauli string keys and coefficient values\n",
    "    \"\"\"\n",
    "    pauli_strings = [\"II\", \"IX\", \"IZ\", \"XI\", \"XX\", \"XZ\", \"ZI\", \"ZX\", \"ZZ\"]\n",
    "    return dict(zip(pauli_strings, h))"
   ]
  },
  {
   "cell_type": "markdown",
   "metadata": {},
   "source": [
    "This is the VQE simulation where we use Qiskit circuits to define the ansatz. We use executors to obtain samples from eiter a quantum simulator of quantum hardware, just like how we use executors in Mitiq. This makes things considerably more modular."
   ]
  },
  {
   "cell_type": "code",
   "execution_count": 3,
   "metadata": {},
   "outputs": [],
   "source": [
    "#Executor for a two qubit qiskit ansatz.\n",
    "def executor(lp, pauli_string):\n",
    "    processor = le_ansatz(lp, pauli_string)\n",
    "\n",
    "    sampler = Sampler(processor)\n",
    "    samples = sampler.samples(10_000)\n",
    "\n",
    "    return samples"
   ]
  },
  {
   "cell_type": "code",
   "execution_count": 4,
   "metadata": {},
   "outputs": [
    {
     "name": "stderr",
     "output_type": "stream",
     "text": [
      "100%|██████████| 23/23 [11:10<00:00, 29.15s/it]\n"
     ]
    }
   ],
   "source": [
    "radius1 = []\n",
    "E1_qiskit = []\n",
    "\n",
    "num_qubits = 2\n",
    "\n",
    "for R in tqdm(range(5, 50, 2)):\n",
    "    h = Hamiltonian_coef[R, 1:]        # All terms except the first\n",
    "    H = hamiltonian_dictionary(h)      # Custom function, I assume\n",
    "    radius1.append(Hamiltonian_coef[R, 0])\n",
    "\n",
    "    initial_params = np.random.rand(2*num_qubits)\n",
    "\n",
    "    # Finding the ground state energy for each H(R)\n",
    "    result = minimize(loss_function, initial_params, args=(H, executor), method='COBYLA', options={'maxiter': 30})\n",
    "    # print(f'number of function evaluations: {result.nfev}')\n",
    "    E1_qiskit.append(result.get('fun'))"
   ]
  },
  {
   "cell_type": "code",
   "execution_count": 5,
   "metadata": {},
   "outputs": [
    {
     "data": {
      "image/png": "[encoded data removed]",
      "text/plain": [
       "<Figure size 640x480 with 1 Axes>"
      ]
     },
     "metadata": {},
     "output_type": "display_data"
    },
    {
     "name": "stdout",
     "output_type": "stream",
     "text": [
      "The minimum energy is E_g(1.0)=-5.72691514 MJ/mol and is attained for R_min =1.0 pm\n"
     ]
    }
   ],
   "source": [
    "plt.plot(100*np.array(radius1), np.array(E1_th)[range(5, 50, 2)],'orange')\n",
    "plt.plot(100*np.array(radius1), E1_qiskit,'x')\n",
    "plt.ylabel('Energy (MJ/mol)')\n",
    "plt.xlabel('Atomic separation R (pm)')\n",
    "\n",
    "plt.legend(['Theoretical ground energies', 'Ground energies computed with Perceval'])\n",
    "\n",
    "plt.show()\n",
    "\n",
    "min_value=min(E1_qiskit)\n",
    "min_index = E1_qiskit.index(min_value)\n",
    "print('The minimum energy is E_g('+str(radius1[min_index])+')='+str(E1_qiskit[min_index])+' MJ/mol and is attained for R_min ='+str(radius1[min_index])+' pm')"
   ]
  },
  {
   "cell_type": "markdown",
   "metadata": {},
   "source": [
    "In the following cell we define a function that generates arbitrary two qubit unitaries given the parameters. This can be used in a VQE simulation to find ground states of two qubit Hamiltonians.\n",
    "One can also use a custom function that generates a unitary according to some custom noise model."
   ]
  },
  {
   "cell_type": "code",
   "execution_count": 6,
   "metadata": {},
   "outputs": [
    {
     "data": {
      "text/plain": [
       "(np.float64(4.268970847729488e-16), np.True_)"
      ]
     },
     "execution_count": 6,
     "metadata": {},
     "output_type": "execute_result"
    }
   ],
   "source": [
    "import numpy as np\n",
    "from scipy.linalg import expm\n",
    "import numpy as np\n",
    "from scipy.linalg import sqrtm\n",
    "\n",
    "# Pauli matrices and identity\n",
    "sigma_0 = np.eye(2, dtype=complex)  # Identity matrix\n",
    "sigma_1 = np.array([[0, 1], [1, 0]], dtype=complex)\n",
    "sigma_2 = np.array([[0, -1j], [1j, 0]], dtype=complex)\n",
    "sigma_3 = np.array([[1, 0], [0, -1]], dtype=complex)\n",
    "\n",
    "# List of Pauli matrices (including identity)\n",
    "paulis = [sigma_0, sigma_1, sigma_2, sigma_3]\n",
    "\n",
    "def construct_unitary_from_parameters(params):\n",
    "    \"\"\"\n",
    "    Constructs a 4x4 unitary matrix from 16 real parameters using the basis Γ(i, j) = σ_i ⊗ σ_j.\n",
    "\n",
    "    Args:\n",
    "        params (list or np.ndarray): A list or array of 16 real parameters.\n",
    "\n",
    "    Returns:\n",
    "        np.ndarray: A 4x4 unitary matrix.\n",
    "    \"\"\"\n",
    "    if len(params) != 16:\n",
    "        raise ValueError(f\"Exactly 16 parameters are required, but {len(params)} were given.\")\n",
    "\n",
    "    # Reshape the parameters into a 4x4 grid for easier indexing\n",
    "    params_grid = np.array(params).reshape(4, 4)\n",
    "\n",
    "    # Initialize the 4x4 Hermitian matrix\n",
    "    H = np.zeros((4, 4), dtype=complex)\n",
    "\n",
    "    # Construct the Hermitian matrix H = sum_{i,j} d(i,j) Γ(i,j)\n",
    "    for i in range(4):\n",
    "        for j in range(4):\n",
    "            # Compute Γ(i,j) = σ_i ⊗ σ_j\n",
    "            gamma_ij = np.kron(paulis[i], paulis[j])\n",
    "            # Add the term d(i,j) * Γ(i,j) to H\n",
    "            H += params_grid[i, j] * gamma_ij\n",
    "\n",
    "    # Construct the unitary matrix U = exp(iH)\n",
    "    U = expm(1j * H)\n",
    "\n",
    "    return U\n",
    "\n",
    "def check_unitarity(U, tolerance=1e-10):\n",
    "    \"\"\"Check if a matrix is unitary within given tolerance\"\"\"\n",
    "    I = np.eye(U.shape[0], dtype=U.dtype)\n",
    "    UHU = U.conj().T @ U\n",
    "    max_diff = np.max(np.abs(UHU - I))\n",
    "    return max_diff, max_diff < tolerance\n",
    "\n",
    "U = construct_unitary_from_parameters(np.random.rand(16))\n",
    "check_unitarity(U)"
   ]
  },
  {
   "cell_type": "code",
   "execution_count": 7,
   "metadata": {},
   "outputs": [
    {
     "data": {
      "text/plain": [
       "[|1,1,0,0>,\n",
       " |0,0,0,2>,\n",
       " |0,2,0,0>,\n",
       " |0,0,0,2>,\n",
       " |0,2,0,0>,\n",
       " |0,1,1,0>,\n",
       " |0,0,0,2>,\n",
       " |0,1,0,1>,\n",
       " |0,0,0,2>,\n",
       " |1,0,1,0>]"
      ]
     },
     "execution_count": 7,
     "metadata": {},
     "output_type": "execute_result"
    }
   ],
   "source": [
    "# Mach-Zehnder interferometer\n",
    "mzi = comp.BS() // (0, comp.PS(pcvl.Parameter(\"phi1\"))) // comp.BS() // (0, comp.PS(pcvl.Parameter(\"phi2\")))\n",
    "\n",
    "#Executor for a two qubit unitary.\n",
    "def executor(lp, pauli_string):\n",
    "\n",
    "    params = np.concatenate((np.random.rand(11), lp))\n",
    "    num_qubits = len(pauli_string)\n",
    "\n",
    "    unitary = construct_unitary_from_parameters(params)\n",
    "    M = pcvl.Matrix(unitary)\n",
    "    ansatz = pcvl.Circuit.decomposition(M, mzi, shape=pcvl.InterferometerShape.TRIANGLE)\n",
    "    ansatz_rot = rotate_qubits(pauli_string, ansatz.copy())\n",
    "    processor = pcvl.Processor(pcvl.NaiveBackend(), ansatz_rot)\n",
    "\n",
    "    processor.with_input(pcvl.BasicState([0,1]*num_qubits))\n",
    "\n",
    "    sampler = Sampler(processor)\n",
    "    samples = sampler.samples(10_000)\n",
    "\n",
    "    return samples\n",
    "executor(np.random.rand(5), 'II')['results'][:10]"
   ]
  },
  {
   "cell_type": "markdown",
   "metadata": {},
   "source": [
    "We can now start the VQE simulation"
   ]
  },
  {
   "cell_type": "code",
   "execution_count": 8,
   "metadata": {},
   "outputs": [
    {
     "name": "stderr",
     "output_type": "stream",
     "text": [
      "  0%|          | 0/23 [00:00<?, ?it/s]"
     ]
    },
    {
     "name": "stderr",
     "output_type": "stream",
     "text": [
      "100%|██████████| 23/23 [06:39<00:00, 17.36s/it]\n"
     ]
    }
   ],
   "source": [
    "radius1 = []\n",
    "E1 = []\n",
    "\n",
    "\n",
    "# for R in tqdm(range(5, 50, 2)):  # We try to find the ground state eigenvalue for each radius R\n",
    "\n",
    "#     h = np.array(Hamiltonian_coef[R])[0][1:]\n",
    "#     H = hamiltonian_dictionary(h)\n",
    "#     radius1.append(np.array(Hamiltonian_coef[R])[0][0])\n",
    "\n",
    "for R in tqdm(range(5, 50, 2)):\n",
    "    h = Hamiltonian_coef[R, 1:]        # All terms except the first\n",
    "    H = hamiltonian_dictionary(h)      # Custom function, I assume\n",
    "    radius1.append(Hamiltonian_coef[R, 0])\n",
    "\n",
    "    initial_params = np.random.rand(5)\n",
    "\n",
    "    # Finding the ground state eigen value for each H(R)\n",
    "    result = minimize(loss_function, initial_params, args=(H, executor), method='COBYLA', options={'maxiter': 20})\n",
    "    # print(f'number of function evaluations: {result.nfev}')\n",
    "    E1.append(result.get('fun'))\n"
   ]
  },
  {
   "cell_type": "code",
   "execution_count": 9,
   "metadata": {},
   "outputs": [
    {
     "data": {
      "image/png": "[encoded data removed]",
      "text/plain": [
       "<Figure size 640x480 with 1 Axes>"
      ]
     },
     "metadata": {},
     "output_type": "display_data"
    },
    {
     "name": "stdout",
     "output_type": "stream",
     "text": [
      "The minimum energy is E_g(2.4)=-5.651872619130003 MJ/mol and is attained for R_min =2.4 pm\n"
     ]
    }
   ],
   "source": [
    "plt.plot(100*np.array(radius1), np.array(E1_th)[range(5, 50, 2)],'orange')\n",
    "plt.plot(100*np.array(radius1), E1,'x')\n",
    "plt.ylabel('Energy (MJ/mol)')\n",
    "plt.xlabel('Atomic separation R (pm)')\n",
    "\n",
    "plt.legend(['Theoretical ground energies', 'Ground energies computed with Perceval'])\n",
    "\n",
    "plt.show()\n",
    "\n",
    "min_value=min(E1)\n",
    "min_index = E1.index(min_value)\n",
    "print('The minimum energy is E_g('+str(radius1[min_index])+')='+str(E1[min_index])+' MJ/mol and is attained for R_min ='+str(radius1[min_index])+' pm')"
   ]
  },
  {
   "cell_type": "markdown",
   "metadata": {},
   "source": [
    "Now let us start the calculating the ground state enerygy for LiH molecule and compare it with the exact solution."
   ]
  },
  {
   "cell_type": "code",
   "execution_count": 10,
   "metadata": {},
   "outputs": [],
   "source": [
    "import warnings\n",
    "warnings.simplefilter('ignore')\n",
    "warnings.filterwarnings('ignore')\n",
    "\n",
    "import numpy as np\n",
    "import matplotlib.pyplot as plt\n",
    "from qiskit import QuantumCircuit, transpile\n",
    "from qiskit.circuit.library import TwoLocal\n",
    "from perceval.algorithm import Sampler\n",
    "\n",
    "from qlass import compile\n",
    "from qlass.quantum_chemistry import LiH_hamiltonian, brute_force_minimize\n",
    "from qlass.vqe import VQE, le_ansatz"
   ]
  },
  {
   "cell_type": "markdown",
   "metadata": {},
   "source": [
    "We define an executor function that uses the linear entangled ansatz"
   ]
  },
  {
   "cell_type": "code",
   "execution_count": 11,
   "metadata": {},
   "outputs": [],
   "source": [
    "def executor(params, pauli_string):\n",
    "    processor = le_ansatz(params, pauli_string)\n",
    "    sampler = Sampler(processor)\n",
    "    samples = sampler.samples(10_000)\n",
    "    return samples"
   ]
  },
  {
   "cell_type": "markdown",
   "metadata": {},
   "source": [
    "We initialize the number of qubits and generate a 2-qubit Hamiltonian for LiH. Please feel free to play with the parameters"
   ]
  },
  {
   "cell_type": "code",
   "execution_count": 12,
   "metadata": {},
   "outputs": [
    {
     "name": "stdout",
     "output_type": "stream",
     "text": [
      "LiH Hamiltonian:\n",
      "  II: -0.6643+0.0000j\n",
      "  IZ: 0.2704+0.0000j\n",
      "  ZI: 0.2704+0.0000j\n",
      "  ZZ: 0.1236+0.0000j\n"
     ]
    }
   ],
   "source": [
    "num_qubits = 2\n",
    "hamiltonian = LiH_hamiltonian(num_electrons=2, num_orbitals=1)\n",
    "    \n",
    "# Print the Hamiltonian\n",
    "print(\"LiH Hamiltonian:\")\n",
    "for pauli_string, coefficient in hamiltonian.items():\n",
    "    print(f\"  {pauli_string}: {coefficient:.4f}\")"
   ]
  },
  {
   "cell_type": "markdown",
   "metadata": {},
   "source": [
    "We will calculate the exact ground state energy of the LiH molecule for comparison"
   ]
  },
  {
   "cell_type": "code",
   "execution_count": 13,
   "metadata": {},
   "outputs": [
    {
     "name": "stdout",
     "output_type": "stream",
     "text": [
      "\n",
      "Exact ground state energy: -1.081406+0.000000j\n"
     ]
    }
   ],
   "source": [
    "exact_energy = brute_force_minimize(hamiltonian)\n",
    "print(f\"\\nExact ground state energy: {exact_energy:.6f}\")"
   ]
  },
  {
   "cell_type": "markdown",
   "metadata": {},
   "source": [
    "Now, let us initialize and run the VQE solver with the custom executor we defined above"
   ]
  },
  {
   "cell_type": "code",
   "execution_count": 15,
   "metadata": {},
   "outputs": [
    {
     "name": "stdout",
     "output_type": "stream",
     "text": [
      "\n",
      "Running VQE optimization...\n",
      "Starting VQE optimization using COBYLA optimizer\n",
      "Number of qubits: 2\n",
      "Number of parameters: 4\n",
      "Optimization complete!\n",
      "Final energy: -1.081234\n",
      "Number of iterations: 53\n"
     ]
    }
   ],
   "source": [
    "vqe = VQE(\n",
    "        hamiltonian=hamiltonian,\n",
    "        executor=executor,\n",
    "        num_params=2*num_qubits, # Number of parameters in the linear entangled ansatz\n",
    "    )\n",
    "\n",
    "print(\"\\nRunning VQE optimization...\")\n",
    "vqe_energy = vqe.run(\n",
    "    max_iterations=1000,\n",
    "    verbose=True\n",
    "    )"
   ]
  },
  {
   "cell_type": "markdown",
   "metadata": {},
   "source": [
    "Here we get the optimal parameters and compare with exact solution"
   ]
  },
  {
   "cell_type": "code",
   "execution_count": 16,
   "metadata": {},
   "outputs": [],
   "source": [
    "optimal_params = vqe.get_optimal_parameters()\n",
    "\n",
    "comparison = vqe.compare_with_exact(exact_energy)"
   ]
  },
  {
   "cell_type": "code",
   "execution_count": 17,
   "metadata": {},
   "outputs": [
    {
     "name": "stdout",
     "output_type": "stream",
     "text": [
      "\n",
      "Optimization complete!\n",
      "Final energy: -1.081234\n",
      "Optimal parameters: [1.00353232 1.59691785 2.10143325 1.57537912]\n",
      "Number of iterations: 53\n",
      "Exact ground state energy: -1.081406+0.000000j\n",
      "Energy difference: 0.000171\n"
     ]
    }
   ],
   "source": [
    "print(f\"\\nOptimization complete!\")\n",
    "print(f\"Final energy: {vqe_energy:.6f}\")\n",
    "print(f\"Optimal parameters: {optimal_params}\")\n",
    "print(f\"Number of iterations: {vqe.optimization_result.nfev}\")\n",
    "print(f\"Exact ground state energy: {exact_energy:.6f}\")\n",
    "print(f\"Energy difference: {comparison['absolute_error']:.6f}\")"
   ]
  },
  {
   "cell_type": "code",
   "execution_count": 18,
   "metadata": {},
   "outputs": [
    {
     "name": "stdout",
     "output_type": "stream",
     "text": [
      "\n",
      "Plotting convergence history...\n",
      "Convergence plot saved as 'vqe_convergence.png'\n"
     ]
    },
    {
     "data": {
      "image/png": "[encoded data removed]",
      "text/plain": [
       "<Figure size 1000x600 with 1 Axes>"
      ]
     },
     "metadata": {},
     "output_type": "display_data"
    }
   ],
   "source": [
    "print(\"\\nPlotting convergence history...\")\n",
    "plt.figure(figsize=(10, 6))\n",
    "iterations = range(len(vqe.energy_history))\n",
    "plt.plot(iterations, vqe.energy_history, 'o-', label='VQE Energy')\n",
    "plt.axhline(y=exact_energy, color='r', linestyle='--', label='Exact Energy')\n",
    "plt.xlabel('Iteration')\n",
    "plt.ylabel('Energy')\n",
    "plt.title('VQE Convergence')\n",
    "plt.legend()\n",
    "plt.grid(True, alpha=0.3)\n",
    "plt.savefig('vqe_convergence.png')\n",
    "print(\"Convergence plot saved as 'vqe_convergence.png'\")\n"
   ]
  },
  {
   "cell_type": "code",
   "execution_count": null,
   "metadata": {},
   "outputs": [],
   "source": []
  }
 ],
 "metadata": {
  "kernelspec": {
   "display_name": "qlass",
   "language": "python",
   "name": "python3"
  },
  "language_info": {
   "codemirror_mode": {
    "name": "ipython",
    "version": 3
   },
   "file_extension": ".py",
   "mimetype": "text/x-python",
   "name": "python",
   "nbconvert_exporter": "python",
   "pygments_lexer": "ipython3",
   "version": "3.13.3"
  }
 },
 "nbformat": 4,
 "nbformat_minor": 2
}
