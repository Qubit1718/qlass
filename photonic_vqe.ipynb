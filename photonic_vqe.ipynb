{
 "cells": [
  {
   "cell_type": "markdown",
   "metadata": {},
   "source": [
    "## Photonic VQE simulations using Qiskit circuits or a parametrized unitary"
   ]
  },
  {
   "cell_type": "code",
   "execution_count": 30,
   "metadata": {},
   "outputs": [],
   "source": [
    "import perceval as pcvl\n",
    "import perceval.components as comp\n",
    "from perceval.algorithm import Sampler\n",
    "\n",
    "from qlass.utils import loss_function, rotate_qubits\n",
    "from qlass.vqe import le_ansatz, VQE\n",
    "from qlass import compile\n",
    "from qlass.quantum_chemistry import LiH_hamiltonian, brute_force_minimize\n",
    "\n",
    "import warnings\n",
    "warnings.simplefilter('ignore')\n",
    "warnings.filterwarnings('ignore')\n",
    "\n",
    "from scipy.optimize import minimize\n",
    "from scipy.linalg import expm\n",
    "from tqdm import tqdm\n",
    "import matplotlib.pyplot as plt\n",
    "import numpy as np\n",
    "\n",
    "from qiskit import QuantumCircuit, transpile\n",
    "from qiskit.circuit.library import TwoLocal"
   ]
  },
  {
   "cell_type": "markdown",
   "metadata": {},
   "source": [
    "In the following cell, we have a few Hamiltonians from the H2 molecule that we can use to simulate our VQE. The Hamiltonians are obtained from [this paper](https://www.nature.com/articles/ncomms5213)."
   ]
  },
  {
   "cell_type": "code",
   "execution_count": 31,
   "metadata": {},
   "outputs": [],
   "source": [
    "Hamiltonian_elem = np.load('hamiltonian_elem.npy')\n",
    "\n",
    "Hamiltonian_coef = np.load('hamiltonian_coef.npy')\n",
    "\n",
    "# Building the Hamiltonian H[0] = Radius, H[1] = H(Radius)\n",
    "H1 = []\n",
    "(n,m) = Hamiltonian_coef.shape\n",
    "for i in range(n):  # i = Radius\n",
    "    h_0 = 1.0 * np.matrix(Hamiltonian_elem[0])\n",
    "    for j in range(1, m):\n",
    "        h_0 += Hamiltonian_coef[i,j] * np.matrix(Hamiltonian_elem[j])\n",
    "    H1.append([Hamiltonian_coef[i,0], h_0])\n",
    "\n",
    "H = H1\n",
    "\n",
    "E1_th = []\n",
    "for h in H:\n",
    "    l0 = np.linalg.eigvals(h[1])\n",
    "    l0.sort()\n",
    "    E1_th.append(min(l0))\n",
    "\n",
    "\n",
    "def hamiltonian_dictionary(h):\n",
    "    \"\"\"\n",
    "    Convert a 2-qubit Hamiltonian from array form to a dictionary.\n",
    "\n",
    "    Args:\n",
    "    h (np.ndarray): 2-qubit Hamiltonian in array form\n",
    "\n",
    "    Returns:\n",
    "    Dict[str, float]: Dictionary with Pauli string keys and coefficient values\n",
    "    \"\"\"\n",
    "    pauli_strings = [\"II\", \"IX\", \"IZ\", \"XI\", \"XX\", \"XZ\", \"ZI\", \"ZX\", \"ZZ\"]\n",
    "    return dict(zip(pauli_strings, h))"
   ]
  },
  {
   "cell_type": "markdown",
   "metadata": {},
   "source": [
    "This is the VQE simulation where we use Qiskit circuits to define the ansatz. We use executors to obtain samples from eiter a quantum simulator of quantum hardware, just like how we use executors in Mitiq. This makes things considerably more modular."
   ]
  },
  {
   "cell_type": "code",
   "execution_count": 32,
   "metadata": {},
   "outputs": [],
   "source": [
    "def executor(params, pauli_string):\n",
    "    processor = le_ansatz(params, pauli_string)\n",
    "    sampler = Sampler(processor)\n",
    "    samples = sampler.samples(10000)\n",
    "    return samples"
   ]
  },
  {
   "cell_type": "code",
   "execution_count": 33,
   "metadata": {},
   "outputs": [
    {
     "name": "stderr",
     "output_type": "stream",
     "text": [
      "  0%|          | 0/23 [00:00<?, ?it/s]"
     ]
    },
    {
     "name": "stdout",
     "output_type": "stream",
     "text": [
      "Starting VQE optimization using COBYLA optimizer\n",
      "Number of qubits: 2\n",
      "Number of parameters: 4\n"
     ]
    },
    {
     "name": "stderr",
     "output_type": "stream",
     "text": [
      "  4%|▍         | 1/23 [00:58<21:23, 58.35s/it]"
     ]
    },
    {
     "name": "stdout",
     "output_type": "stream",
     "text": [
      "Optimization complete!\n",
      "Final energy: -3.602891\n",
      "Number of iterations: 30\n",
      "Starting VQE optimization using COBYLA optimizer\n",
      "Number of qubits: 2\n",
      "Number of parameters: 4\n"
     ]
    },
    {
     "name": "stderr",
     "output_type": "stream",
     "text": [
      "  9%|▊         | 2/23 [01:56<20:25, 58.36s/it]"
     ]
    },
    {
     "name": "stdout",
     "output_type": "stream",
     "text": [
      "Optimization complete!\n",
      "Final energy: -4.739741\n",
      "Number of iterations: 30\n",
      "Starting VQE optimization using COBYLA optimizer\n",
      "Number of qubits: 2\n",
      "Number of parameters: 4\n"
     ]
    },
    {
     "name": "stderr",
     "output_type": "stream",
     "text": [
      " 13%|█▎        | 3/23 [02:57<19:48, 59.44s/it]"
     ]
    },
    {
     "name": "stdout",
     "output_type": "stream",
     "text": [
      "Optimization complete!\n",
      "Final energy: -5.284021\n",
      "Number of iterations: 30\n",
      "Starting VQE optimization using COBYLA optimizer\n",
      "Number of qubits: 2\n",
      "Number of parameters: 4\n"
     ]
    },
    {
     "name": "stderr",
     "output_type": "stream",
     "text": [
      " 17%|█▋        | 4/23 [03:57<18:53, 59.67s/it]"
     ]
    },
    {
     "name": "stdout",
     "output_type": "stream",
     "text": [
      "Optimization complete!\n",
      "Final energy: -5.542008\n",
      "Number of iterations: 30\n",
      "Starting VQE optimization using COBYLA optimizer\n",
      "Number of qubits: 2\n",
      "Number of parameters: 4\n"
     ]
    },
    {
     "name": "stderr",
     "output_type": "stream",
     "text": [
      " 22%|██▏       | 5/23 [04:57<17:57, 59.85s/it]"
     ]
    },
    {
     "name": "stdout",
     "output_type": "stream",
     "text": [
      "Optimization complete!\n",
      "Final energy: -5.664045\n",
      "Number of iterations: 30\n",
      "Starting VQE optimization using COBYLA optimizer\n",
      "Number of qubits: 2\n",
      "Number of parameters: 4\n"
     ]
    },
    {
     "name": "stderr",
     "output_type": "stream",
     "text": [
      " 26%|██▌       | 6/23 [05:58<17:02, 60.14s/it]"
     ]
    },
    {
     "name": "stdout",
     "output_type": "stream",
     "text": [
      "Optimization complete!\n",
      "Final energy: -5.714033\n",
      "Number of iterations: 30\n",
      "Starting VQE optimization using COBYLA optimizer\n",
      "Number of qubits: 2\n",
      "Number of parameters: 4\n"
     ]
    },
    {
     "name": "stderr",
     "output_type": "stream",
     "text": [
      " 30%|███       | 7/23 [06:59<16:07, 60.47s/it]"
     ]
    },
    {
     "name": "stdout",
     "output_type": "stream",
     "text": [
      "Optimization complete!\n",
      "Final energy: -5.731917\n",
      "Number of iterations: 30\n",
      "Starting VQE optimization using COBYLA optimizer\n",
      "Number of qubits: 2\n",
      "Number of parameters: 4\n"
     ]
    },
    {
     "name": "stderr",
     "output_type": "stream",
     "text": [
      " 35%|███▍      | 8/23 [08:01<15:12, 60.81s/it]"
     ]
    },
    {
     "name": "stdout",
     "output_type": "stream",
     "text": [
      "Optimization complete!\n",
      "Final energy: -5.724469\n",
      "Number of iterations: 30\n",
      "Starting VQE optimization using COBYLA optimizer\n",
      "Number of qubits: 2\n",
      "Number of parameters: 4\n"
     ]
    },
    {
     "name": "stderr",
     "output_type": "stream",
     "text": [
      " 39%|███▉      | 9/23 [09:03<14:17, 61.24s/it]"
     ]
    },
    {
     "name": "stdout",
     "output_type": "stream",
     "text": [
      "Optimization complete!\n",
      "Final energy: -5.715346\n",
      "Number of iterations: 30\n",
      "Starting VQE optimization using COBYLA optimizer\n",
      "Number of qubits: 2\n",
      "Number of parameters: 4\n"
     ]
    },
    {
     "name": "stderr",
     "output_type": "stream",
     "text": [
      " 43%|████▎     | 10/23 [10:04<13:17, 61.38s/it]"
     ]
    },
    {
     "name": "stdout",
     "output_type": "stream",
     "text": [
      "Optimization complete!\n",
      "Final energy: -5.691775\n",
      "Number of iterations: 30\n",
      "Starting VQE optimization using COBYLA optimizer\n",
      "Number of qubits: 2\n",
      "Number of parameters: 4\n"
     ]
    },
    {
     "name": "stderr",
     "output_type": "stream",
     "text": [
      " 48%|████▊     | 11/23 [11:07<12:22, 61.85s/it]"
     ]
    },
    {
     "name": "stdout",
     "output_type": "stream",
     "text": [
      "Optimization complete!\n",
      "Final energy: -5.673075\n",
      "Number of iterations: 30\n",
      "Starting VQE optimization using COBYLA optimizer\n",
      "Number of qubits: 2\n",
      "Number of parameters: 4\n"
     ]
    },
    {
     "name": "stderr",
     "output_type": "stream",
     "text": [
      " 52%|█████▏    | 12/23 [12:09<11:18, 61.72s/it]"
     ]
    },
    {
     "name": "stdout",
     "output_type": "stream",
     "text": [
      "Optimization complete!\n",
      "Final energy: -5.664372\n",
      "Number of iterations: 30\n",
      "Starting VQE optimization using COBYLA optimizer\n",
      "Number of qubits: 2\n",
      "Number of parameters: 4\n"
     ]
    },
    {
     "name": "stderr",
     "output_type": "stream",
     "text": [
      " 57%|█████▋    | 13/23 [13:10<10:15, 61.50s/it]"
     ]
    },
    {
     "name": "stdout",
     "output_type": "stream",
     "text": [
      "Optimization complete!\n",
      "Final energy: -5.652014\n",
      "Number of iterations: 30\n",
      "Starting VQE optimization using COBYLA optimizer\n",
      "Number of qubits: 2\n",
      "Number of parameters: 4\n"
     ]
    },
    {
     "name": "stderr",
     "output_type": "stream",
     "text": [
      " 61%|██████    | 14/23 [14:11<09:13, 61.54s/it]"
     ]
    },
    {
     "name": "stdout",
     "output_type": "stream",
     "text": [
      "Optimization complete!\n",
      "Final energy: -5.643727\n",
      "Number of iterations: 30\n",
      "Starting VQE optimization using COBYLA optimizer\n",
      "Number of qubits: 2\n",
      "Number of parameters: 4\n"
     ]
    },
    {
     "name": "stderr",
     "output_type": "stream",
     "text": [
      " 65%|██████▌   | 15/23 [15:13<08:11, 61.42s/it]"
     ]
    },
    {
     "name": "stdout",
     "output_type": "stream",
     "text": [
      "Optimization complete!\n",
      "Final energy: -5.629230\n",
      "Number of iterations: 30\n",
      "Starting VQE optimization using COBYLA optimizer\n",
      "Number of qubits: 2\n",
      "Number of parameters: 4\n"
     ]
    },
    {
     "name": "stderr",
     "output_type": "stream",
     "text": [
      " 70%|██████▉   | 16/23 [21:29<18:12, 156.13s/it]"
     ]
    },
    {
     "name": "stdout",
     "output_type": "stream",
     "text": [
      "Optimization complete!\n",
      "Final energy: -5.634932\n",
      "Number of iterations: 30\n",
      "Starting VQE optimization using COBYLA optimizer\n",
      "Number of qubits: 2\n",
      "Number of parameters: 4\n"
     ]
    },
    {
     "name": "stderr",
     "output_type": "stream",
     "text": [
      " 74%|███████▍  | 17/23 [22:30<12:45, 127.58s/it]"
     ]
    },
    {
     "name": "stdout",
     "output_type": "stream",
     "text": [
      "Optimization complete!\n",
      "Final energy: -5.626561\n",
      "Number of iterations: 30\n",
      "Starting VQE optimization using COBYLA optimizer\n",
      "Number of qubits: 2\n",
      "Number of parameters: 4\n"
     ]
    },
    {
     "name": "stderr",
     "output_type": "stream",
     "text": [
      " 78%|███████▊  | 18/23 [23:34<09:02, 108.45s/it]"
     ]
    },
    {
     "name": "stdout",
     "output_type": "stream",
     "text": [
      "Optimization complete!\n",
      "Final energy: -5.624022\n",
      "Number of iterations: 30\n",
      "Starting VQE optimization using COBYLA optimizer\n",
      "Number of qubits: 2\n",
      "Number of parameters: 4\n"
     ]
    },
    {
     "name": "stderr",
     "output_type": "stream",
     "text": [
      " 83%|████████▎ | 19/23 [24:35<06:16, 94.17s/it] "
     ]
    },
    {
     "name": "stdout",
     "output_type": "stream",
     "text": [
      "Optimization complete!\n",
      "Final energy: -5.614127\n",
      "Number of iterations: 30\n",
      "Starting VQE optimization using COBYLA optimizer\n",
      "Number of qubits: 2\n",
      "Number of parameters: 4\n"
     ]
    },
    {
     "name": "stderr",
     "output_type": "stream",
     "text": [
      " 87%|████████▋ | 20/23 [25:37<04:13, 84.50s/it]"
     ]
    },
    {
     "name": "stdout",
     "output_type": "stream",
     "text": [
      "Optimization complete!\n",
      "Final energy: -5.620927\n",
      "Number of iterations: 30\n",
      "Starting VQE optimization using COBYLA optimizer\n",
      "Number of qubits: 2\n",
      "Number of parameters: 4\n"
     ]
    },
    {
     "name": "stderr",
     "output_type": "stream",
     "text": [
      " 91%|█████████▏| 21/23 [26:38<02:35, 77.66s/it]"
     ]
    },
    {
     "name": "stdout",
     "output_type": "stream",
     "text": [
      "Optimization complete!\n",
      "Final energy: -5.614874\n",
      "Number of iterations: 30\n",
      "Starting VQE optimization using COBYLA optimizer\n",
      "Number of qubits: 2\n",
      "Number of parameters: 4\n"
     ]
    },
    {
     "name": "stderr",
     "output_type": "stream",
     "text": [
      " 96%|█████████▌| 22/23 [27:40<01:12, 72.82s/it]"
     ]
    },
    {
     "name": "stdout",
     "output_type": "stream",
     "text": [
      "Optimization complete!\n",
      "Final energy: -5.617299\n",
      "Number of iterations: 30\n",
      "Starting VQE optimization using COBYLA optimizer\n",
      "Number of qubits: 2\n",
      "Number of parameters: 4\n"
     ]
    },
    {
     "name": "stderr",
     "output_type": "stream",
     "text": [
      "100%|██████████| 23/23 [28:41<00:00, 74.84s/it]"
     ]
    },
    {
     "name": "stdout",
     "output_type": "stream",
     "text": [
      "Optimization complete!\n",
      "Final energy: -5.614546\n",
      "Number of iterations: 30\n"
     ]
    },
    {
     "name": "stderr",
     "output_type": "stream",
     "text": [
      "\n"
     ]
    }
   ],
   "source": [
    "num_qubits = 2\n",
    "radius_vqe = []\n",
    "E_qiskit=[]\n",
    "\n",
    "for R in tqdm(range(5, 50, 2)):\n",
    "    h = Hamiltonian_coef[R, 1:]\n",
    "    H_dict = hamiltonian_dictionary(h)\n",
    "    radius_vqe.append(Hamiltonian_coef[R, 0])\n",
    "    vqe_solver = VQE(H_dict, executor, num_params=2*num_qubits, optimizer='COBYLA')\n",
    "    result = vqe_solver.run(max_iterations=30, verbose=True)\n",
    "    E_qiskit.append(vqe_solver.optimization_result.get('fun'))"
   ]
  },
  {
   "cell_type": "code",
   "execution_count": 34,
   "metadata": {},
   "outputs": [
    {
     "data": {
      "image/png": "[encoded data removed]",
      "text/plain": [
       "<Figure size 640x480 with 1 Axes>"
      ]
     },
     "metadata": {},
     "output_type": "display_data"
    },
    {
     "name": "stdout",
     "output_type": "stream",
     "text": [
      "The minimum energy is E_g(0.9)=-5.731916619999999 MJ/mol and is attained for R_min =0.9 pm\n"
     ]
    }
   ],
   "source": [
    "plt.plot(100*np.array(radius_vqe), np.array(E1_th)[range(5, 50, 2)],'orange')\n",
    "plt.plot(100*np.array(radius_vqe), E_qiskit,'x')\n",
    "plt.ylabel('Energy (MJ/mol)')\n",
    "plt.xlabel('Atomic separation R (pm)')\n",
    "\n",
    "plt.legend(['Theoretical ground energies', 'Ground energies computed with Perceval'])\n",
    "\n",
    "plt.show()\n",
    "\n",
    "min_value=min(E_qiskit)\n",
    "min_index = E_qiskit.index(min_value)\n",
    "print('The minimum energy is E_g('+str(radius_vqe[min_index])+')='+str(E_qiskit[min_index])+' MJ/mol and is attained for R_min ='+str(radius_vqe[min_index])+' pm')"
   ]
  },
  {
   "cell_type": "markdown",
   "metadata": {},
   "source": [
    "In the following cell we define a function that generates arbitrary two qubit unitaries given the parameters. This can be used in a VQE simulation to find ground states of two qubit Hamiltonians.\n",
    "One can also use a custom function that generates a unitary according to some custom noise model."
   ]
  },
  {
   "cell_type": "code",
   "execution_count": 18,
   "metadata": {},
   "outputs": [
    {
     "data": {
      "text/plain": [
       "(np.float64(2.220446049250313e-16), np.True_)"
      ]
     },
     "execution_count": 18,
     "metadata": {},
     "output_type": "execute_result"
    }
   ],
   "source": [
    "# Pauli matrices and identity\n",
    "sigma_0 = np.eye(2, dtype=complex)  # Identity matrix\n",
    "sigma_1 = np.array([[0, 1], [1, 0]], dtype=complex)\n",
    "sigma_2 = np.array([[0, -1j], [1j, 0]], dtype=complex)\n",
    "sigma_3 = np.array([[1, 0], [0, -1]], dtype=complex)\n",
    "\n",
    "# List of Pauli matrices (including identity)\n",
    "paulis = [sigma_0, sigma_1, sigma_2, sigma_3]\n",
    "\n",
    "def construct_unitary_from_parameters(params):\n",
    "    \"\"\"\n",
    "    Constructs a 4x4 unitary matrix from 16 real parameters using the basis Γ(i, j) = σ_i ⊗ σ_j.\n",
    "\n",
    "    Args:\n",
    "        params (list or np.ndarray): A list or array of 16 real parameters.\n",
    "\n",
    "    Returns:\n",
    "        np.ndarray: A 4x4 unitary matrix.\n",
    "    \"\"\"\n",
    "    if len(params) != 16:\n",
    "        raise ValueError(f\"Exactly 16 parameters are required, but {len(params)} were given.\")\n",
    "\n",
    "    # Reshape the parameters into a 4x4 grid for easier indexing\n",
    "    params_grid = np.array(params).reshape(4, 4)\n",
    "\n",
    "    # Initialize the 4x4 Hermitian matrix\n",
    "    H = np.zeros((4, 4), dtype=complex)\n",
    "\n",
    "    # Construct the Hermitian matrix H = sum_{i,j} d(i,j) Γ(i,j)\n",
    "    for i in range(4):\n",
    "        for j in range(4):\n",
    "            # Compute Γ(i,j) = σ_i ⊗ σ_j\n",
    "            gamma_ij = np.kron(paulis[i], paulis[j])\n",
    "            # Add the term d(i,j) * Γ(i,j) to H\n",
    "            H += params_grid[i, j] * gamma_ij\n",
    "\n",
    "    # Construct the unitary matrix U = exp(iH)\n",
    "    U = expm(1j * H)\n",
    "\n",
    "    return U\n",
    "\n",
    "def check_unitarity(U, tolerance=1e-10):\n",
    "    \"\"\"Check if a matrix is unitary within given tolerance\"\"\"\n",
    "    I = np.eye(U.shape[0], dtype=U.dtype)\n",
    "    UHU = U.conj().T @ U\n",
    "    max_diff = np.max(np.abs(UHU - I))\n",
    "    return max_diff, max_diff < tolerance\n",
    "\n",
    "U = construct_unitary_from_parameters(np.random.rand(16))\n",
    "check_unitarity(U)"
   ]
  },
  {
   "cell_type": "code",
   "execution_count": 19,
   "metadata": {},
   "outputs": [
    {
     "data": {
      "text/plain": [
       "[|0,2,0,0>,\n",
       " |0,2,0,0>,\n",
       " |1,1,0,0>,\n",
       " |1,0,1,0>,\n",
       " |0,0,0,2>,\n",
       " |2,0,0,0>,\n",
       " |0,0,0,2>,\n",
       " |1,1,0,0>,\n",
       " |0,0,0,2>,\n",
       " |0,1,0,1>]"
      ]
     },
     "execution_count": 19,
     "metadata": {},
     "output_type": "execute_result"
    }
   ],
   "source": [
    "# Mach-Zehnder interferometer\n",
    "mzi = comp.BS() // (0, comp.PS(pcvl.Parameter(\"phi1\"))) // comp.BS() // (0, comp.PS(pcvl.Parameter(\"phi2\")))\n",
    "\n",
    "#Executor for a two qubit unitary.\n",
    "def executor_twoqu(lp, pauli_string):\n",
    "\n",
    "    params = np.concatenate((np.random.rand(11), lp))\n",
    "    num_qubits = len(pauli_string)\n",
    "\n",
    "    unitary = construct_unitary_from_parameters(params)\n",
    "    M = pcvl.Matrix(unitary)\n",
    "    ansatz = pcvl.Circuit.decomposition(M, mzi, shape=pcvl.InterferometerShape.TRIANGLE)\n",
    "    ansatz_rot = rotate_qubits(pauli_string, ansatz.copy())\n",
    "    processor = pcvl.Processor(pcvl.NaiveBackend(), ansatz_rot)\n",
    "\n",
    "    processor.with_input(pcvl.BasicState([0,1]*num_qubits))\n",
    "\n",
    "    sampler = Sampler(processor)\n",
    "    samples = sampler.samples(10_000)\n",
    "\n",
    "    return samples\n",
    "executor_twoqu(np.random.rand(5), 'II')['results'][:10]"
   ]
  },
  {
   "cell_type": "code",
   "execution_count": 27,
   "metadata": {},
   "outputs": [
    {
     "name": "stderr",
     "output_type": "stream",
     "text": [
      "  0%|          | 0/23 [00:00<?, ?it/s]"
     ]
    },
    {
     "name": "stdout",
     "output_type": "stream",
     "text": [
      "Starting VQE optimization using COBYLA optimizer\n",
      "Number of qubits: 2\n",
      "Number of parameters: 5\n"
     ]
    },
    {
     "name": "stderr",
     "output_type": "stream",
     "text": [
      "  4%|▍         | 1/23 [00:51<18:59, 51.82s/it]"
     ]
    },
    {
     "name": "stdout",
     "output_type": "stream",
     "text": [
      "Optimization complete!\n",
      "Final energy: -0.818757\n",
      "Number of iterations: 30\n",
      "Starting VQE optimization using COBYLA optimizer\n",
      "Number of qubits: 2\n",
      "Number of parameters: 5\n"
     ]
    },
    {
     "name": "stderr",
     "output_type": "stream",
     "text": [
      "  9%|▊         | 2/23 [01:45<18:28, 52.77s/it]"
     ]
    },
    {
     "name": "stdout",
     "output_type": "stream",
     "text": [
      "Optimization complete!\n",
      "Final energy: -2.032328\n",
      "Number of iterations: 30\n",
      "Starting VQE optimization using COBYLA optimizer\n",
      "Number of qubits: 2\n",
      "Number of parameters: 5\n"
     ]
    },
    {
     "name": "stderr",
     "output_type": "stream",
     "text": [
      " 13%|█▎        | 3/23 [02:38<17:40, 53.05s/it]"
     ]
    },
    {
     "name": "stdout",
     "output_type": "stream",
     "text": [
      "Optimization complete!\n",
      "Final energy: -3.298184\n",
      "Number of iterations: 30\n",
      "Starting VQE optimization using COBYLA optimizer\n",
      "Number of qubits: 2\n",
      "Number of parameters: 5\n"
     ]
    },
    {
     "name": "stderr",
     "output_type": "stream",
     "text": [
      " 17%|█▋        | 4/23 [03:31<16:46, 52.97s/it]"
     ]
    },
    {
     "name": "stdout",
     "output_type": "stream",
     "text": [
      "Optimization complete!\n",
      "Final energy: -4.700607\n",
      "Number of iterations: 30\n",
      "Starting VQE optimization using COBYLA optimizer\n",
      "Number of qubits: 2\n",
      "Number of parameters: 5\n"
     ]
    },
    {
     "name": "stderr",
     "output_type": "stream",
     "text": [
      " 22%|██▏       | 5/23 [04:25<16:03, 53.52s/it]"
     ]
    },
    {
     "name": "stdout",
     "output_type": "stream",
     "text": [
      "Optimization complete!\n",
      "Final energy: -4.784320\n",
      "Number of iterations: 30\n",
      "Starting VQE optimization using COBYLA optimizer\n",
      "Number of qubits: 2\n",
      "Number of parameters: 5\n"
     ]
    },
    {
     "name": "stderr",
     "output_type": "stream",
     "text": [
      " 26%|██▌       | 6/23 [05:19<15:10, 53.57s/it]"
     ]
    },
    {
     "name": "stdout",
     "output_type": "stream",
     "text": [
      "Optimization complete!\n",
      "Final energy: -4.698157\n",
      "Number of iterations: 30\n",
      "Starting VQE optimization using COBYLA optimizer\n",
      "Number of qubits: 2\n",
      "Number of parameters: 5\n"
     ]
    },
    {
     "name": "stderr",
     "output_type": "stream",
     "text": [
      " 30%|███       | 7/23 [06:11<14:10, 53.17s/it]"
     ]
    },
    {
     "name": "stdout",
     "output_type": "stream",
     "text": [
      "Optimization complete!\n",
      "Final energy: -5.102186\n",
      "Number of iterations: 30\n",
      "Starting VQE optimization using COBYLA optimizer\n",
      "Number of qubits: 2\n",
      "Number of parameters: 5\n"
     ]
    },
    {
     "name": "stderr",
     "output_type": "stream",
     "text": [
      " 35%|███▍      | 8/23 [07:04<13:12, 52.86s/it]"
     ]
    },
    {
     "name": "stdout",
     "output_type": "stream",
     "text": [
      "Optimization complete!\n",
      "Final energy: -4.963851\n",
      "Number of iterations: 30\n",
      "Starting VQE optimization using COBYLA optimizer\n",
      "Number of qubits: 2\n",
      "Number of parameters: 5\n"
     ]
    },
    {
     "name": "stderr",
     "output_type": "stream",
     "text": [
      " 39%|███▉      | 9/23 [07:56<12:18, 52.72s/it]"
     ]
    },
    {
     "name": "stdout",
     "output_type": "stream",
     "text": [
      "Optimization complete!\n",
      "Final energy: -5.600229\n",
      "Number of iterations: 30\n",
      "Starting VQE optimization using COBYLA optimizer\n",
      "Number of qubits: 2\n",
      "Number of parameters: 5\n"
     ]
    },
    {
     "name": "stderr",
     "output_type": "stream",
     "text": [
      " 43%|████▎     | 10/23 [08:48<11:23, 52.61s/it]"
     ]
    },
    {
     "name": "stdout",
     "output_type": "stream",
     "text": [
      "Optimization complete!\n",
      "Final energy: -5.505029\n",
      "Number of iterations: 30\n",
      "Starting VQE optimization using COBYLA optimizer\n",
      "Number of qubits: 2\n",
      "Number of parameters: 5\n"
     ]
    },
    {
     "name": "stderr",
     "output_type": "stream",
     "text": [
      " 48%|████▊     | 11/23 [09:40<10:29, 52.43s/it]"
     ]
    },
    {
     "name": "stdout",
     "output_type": "stream",
     "text": [
      "Optimization complete!\n",
      "Final energy: -5.692741\n",
      "Number of iterations: 30\n",
      "Starting VQE optimization using COBYLA optimizer\n",
      "Number of qubits: 2\n",
      "Number of parameters: 5\n"
     ]
    },
    {
     "name": "stderr",
     "output_type": "stream",
     "text": [
      " 52%|█████▏    | 12/23 [10:33<09:36, 52.38s/it]"
     ]
    },
    {
     "name": "stdout",
     "output_type": "stream",
     "text": [
      "Optimization complete!\n",
      "Final energy: -4.954670\n",
      "Number of iterations: 30\n",
      "Starting VQE optimization using COBYLA optimizer\n",
      "Number of qubits: 2\n",
      "Number of parameters: 5\n"
     ]
    },
    {
     "name": "stderr",
     "output_type": "stream",
     "text": [
      " 57%|█████▋    | 13/23 [11:25<08:43, 52.35s/it]"
     ]
    },
    {
     "name": "stdout",
     "output_type": "stream",
     "text": [
      "Optimization complete!\n",
      "Final energy: -5.195772\n",
      "Number of iterations: 30\n",
      "Starting VQE optimization using COBYLA optimizer\n",
      "Number of qubits: 2\n",
      "Number of parameters: 5\n"
     ]
    },
    {
     "name": "stderr",
     "output_type": "stream",
     "text": [
      " 61%|██████    | 14/23 [12:18<07:52, 52.55s/it]"
     ]
    },
    {
     "name": "stdout",
     "output_type": "stream",
     "text": [
      "Optimization complete!\n",
      "Final energy: -5.671958\n",
      "Number of iterations: 30\n",
      "Starting VQE optimization using COBYLA optimizer\n",
      "Number of qubits: 2\n",
      "Number of parameters: 5\n"
     ]
    },
    {
     "name": "stderr",
     "output_type": "stream",
     "text": [
      " 65%|██████▌   | 15/23 [13:11<07:00, 52.60s/it]"
     ]
    },
    {
     "name": "stdout",
     "output_type": "stream",
     "text": [
      "Optimization complete!\n",
      "Final energy: -5.861645\n",
      "Number of iterations: 30\n",
      "Starting VQE optimization using COBYLA optimizer\n",
      "Number of qubits: 2\n",
      "Number of parameters: 5\n"
     ]
    },
    {
     "name": "stderr",
     "output_type": "stream",
     "text": [
      " 70%|██████▉   | 16/23 [14:03<06:07, 52.48s/it]"
     ]
    },
    {
     "name": "stdout",
     "output_type": "stream",
     "text": [
      "Optimization complete!\n",
      "Final energy: -5.080286\n",
      "Number of iterations: 30\n",
      "Starting VQE optimization using COBYLA optimizer\n",
      "Number of qubits: 2\n",
      "Number of parameters: 5\n"
     ]
    },
    {
     "name": "stderr",
     "output_type": "stream",
     "text": [
      " 74%|███████▍  | 17/23 [14:55<05:14, 52.43s/it]"
     ]
    },
    {
     "name": "stdout",
     "output_type": "stream",
     "text": [
      "Optimization complete!\n",
      "Final energy: -5.175709\n",
      "Number of iterations: 30\n",
      "Starting VQE optimization using COBYLA optimizer\n",
      "Number of qubits: 2\n",
      "Number of parameters: 5\n"
     ]
    },
    {
     "name": "stderr",
     "output_type": "stream",
     "text": [
      " 78%|███████▊  | 18/23 [15:48<04:22, 52.43s/it]"
     ]
    },
    {
     "name": "stdout",
     "output_type": "stream",
     "text": [
      "Optimization complete!\n",
      "Final energy: -5.732747\n",
      "Number of iterations: 30\n",
      "Starting VQE optimization using COBYLA optimizer\n",
      "Number of qubits: 2\n",
      "Number of parameters: 5\n"
     ]
    },
    {
     "name": "stderr",
     "output_type": "stream",
     "text": [
      " 83%|████████▎ | 19/23 [16:41<03:30, 52.70s/it]"
     ]
    },
    {
     "name": "stdout",
     "output_type": "stream",
     "text": [
      "Optimization complete!\n",
      "Final energy: -4.776214\n",
      "Number of iterations: 30\n",
      "Starting VQE optimization using COBYLA optimizer\n",
      "Number of qubits: 2\n",
      "Number of parameters: 5\n"
     ]
    },
    {
     "name": "stderr",
     "output_type": "stream",
     "text": [
      " 87%|████████▋ | 20/23 [17:34<02:38, 52.71s/it]"
     ]
    },
    {
     "name": "stdout",
     "output_type": "stream",
     "text": [
      "Optimization complete!\n",
      "Final energy: -4.713283\n",
      "Number of iterations: 30\n",
      "Starting VQE optimization using COBYLA optimizer\n",
      "Number of qubits: 2\n",
      "Number of parameters: 5\n"
     ]
    },
    {
     "name": "stderr",
     "output_type": "stream",
     "text": [
      " 91%|█████████▏| 21/23 [18:26<01:45, 52.65s/it]"
     ]
    },
    {
     "name": "stdout",
     "output_type": "stream",
     "text": [
      "Optimization complete!\n",
      "Final energy: -5.759273\n",
      "Number of iterations: 30\n",
      "Starting VQE optimization using COBYLA optimizer\n",
      "Number of qubits: 2\n",
      "Number of parameters: 5\n"
     ]
    },
    {
     "name": "stderr",
     "output_type": "stream",
     "text": [
      " 96%|█████████▌| 22/23 [19:19<00:52, 52.63s/it]"
     ]
    },
    {
     "name": "stdout",
     "output_type": "stream",
     "text": [
      "Optimization complete!\n",
      "Final energy: -5.317989\n",
      "Number of iterations: 30\n",
      "Starting VQE optimization using COBYLA optimizer\n",
      "Number of qubits: 2\n",
      "Number of parameters: 5\n"
     ]
    },
    {
     "name": "stderr",
     "output_type": "stream",
     "text": [
      "100%|██████████| 23/23 [20:11<00:00, 52.69s/it]"
     ]
    },
    {
     "name": "stdout",
     "output_type": "stream",
     "text": [
      "Optimization complete!\n",
      "Final energy: -5.510394\n",
      "Number of iterations: 30\n"
     ]
    },
    {
     "name": "stderr",
     "output_type": "stream",
     "text": [
      "\n"
     ]
    }
   ],
   "source": [
    "radius= []\n",
    "E1_qiskit = []\n",
    "\n",
    "for R in tqdm(range(5, 50, 2)):\n",
    "    h = Hamiltonian_coef[R, 1:]\n",
    "    H_dict = hamiltonian_dictionary(h)\n",
    "    radius.append(Hamiltonian_coef[R, 0])\n",
    "    vqe_solver_1 = VQE(H_dict, executor_twoqu, num_params=5, optimizer='COBYLA')\n",
    "    result_1 = vqe_solver_1.run(max_iterations=30, verbose=True)\n",
    "    E1_qiskit.append(vqe_solver_1.optimization_result.get('fun'))\n"
   ]
  },
  {
   "cell_type": "code",
   "execution_count": 29,
   "metadata": {},
   "outputs": [
    {
     "data": {
      "image/png": "[encoded data removed]",
      "text/plain": [
       "<Figure size 640x480 with 1 Axes>"
      ]
     },
     "metadata": {},
     "output_type": "display_data"
    },
    {
     "name": "stdout",
     "output_type": "stream",
     "text": [
      "The minimum energy is E_g(1.7)=-5.861645430292456 MJ/mol and is attained for R_min =1.7 pm\n"
     ]
    }
   ],
   "source": [
    "plt.plot(100*np.array(radius), np.array(E1_th)[range(5, 50, 2)],'orange')\n",
    "plt.plot(100*np.array(radius), E1_qiskit,'x')\n",
    "plt.ylabel('Energy (MJ/mol)')\n",
    "plt.xlabel('Atomic separation R (pm)')\n",
    "\n",
    "plt.legend(['Theoretical ground energies', 'Ground energies computed with Perceval'])\n",
    "\n",
    "plt.show()\n",
    "\n",
    "min_value=min(E1_qiskit)\n",
    "min_index = E1_qiskit.index(min_value)\n",
    "print('The minimum energy is E_g('+str(radius[min_index])+')='+str(E1_qiskit[min_index])+' MJ/mol and is attained for R_min ='+str(radius[min_index])+' pm')"
   ]
  },
  {
   "cell_type": "markdown",
   "metadata": {},
   "source": [
    "Now let us start the calculating the ground state enerygy for LiH molecule and compare it with the exact solution. We first define an executor function that uses the linear entangled ansatz"
   ]
  },
  {
   "cell_type": "code",
   "execution_count": 35,
   "metadata": {},
   "outputs": [],
   "source": [
    "def executor(params, pauli_string):\n",
    "    processor = le_ansatz(params, pauli_string)\n",
    "    sampler = Sampler(processor)\n",
    "    samples = sampler.samples(10_000)\n",
    "    return samples"
   ]
  },
  {
   "cell_type": "markdown",
   "metadata": {},
   "source": [
    "We initialize the number of qubits and generate a 2-qubit Hamiltonian for LiH. Please feel free to play with the parameters"
   ]
  },
  {
   "cell_type": "code",
   "execution_count": 36,
   "metadata": {},
   "outputs": [
    {
     "name": "stdout",
     "output_type": "stream",
     "text": [
      "LiH Hamiltonian:\n",
      "  II: -0.6643+0.0000j\n",
      "  IZ: 0.2704+0.0000j\n",
      "  ZI: 0.2704+0.0000j\n",
      "  ZZ: 0.1236+0.0000j\n"
     ]
    }
   ],
   "source": [
    "num_qubits = 2\n",
    "hamiltonian = LiH_hamiltonian(num_electrons=2, num_orbitals=1)\n",
    "    \n",
    "# Print the Hamiltonian\n",
    "print(\"LiH Hamiltonian:\")\n",
    "for pauli_string, coefficient in hamiltonian.items():\n",
    "    print(f\"  {pauli_string}: {coefficient:.4f}\")"
   ]
  },
  {
   "cell_type": "markdown",
   "metadata": {},
   "source": [
    "We then will calculate the exact ground state energy of the LiH molecule for comparison"
   ]
  },
  {
   "cell_type": "code",
   "execution_count": 37,
   "metadata": {},
   "outputs": [
    {
     "name": "stdout",
     "output_type": "stream",
     "text": [
      "\n",
      "Exact ground state energy: -1.081406+0.000000j\n"
     ]
    }
   ],
   "source": [
    "exact_energy = brute_force_minimize(hamiltonian)\n",
    "print(f\"\\nExact ground state energy: {exact_energy:.6f}\")"
   ]
  },
  {
   "cell_type": "markdown",
   "metadata": {},
   "source": [
    "Now, let us initialize and run the VQE solver with the custom executor we defined above"
   ]
  },
  {
   "cell_type": "code",
   "execution_count": 38,
   "metadata": {},
   "outputs": [
    {
     "name": "stdout",
     "output_type": "stream",
     "text": [
      "\n",
      "Running VQE optimization...\n",
      "Starting VQE optimization using COBYLA optimizer\n",
      "Number of qubits: 2\n",
      "Number of parameters: 4\n",
      "Optimization complete!\n",
      "Final energy: -1.080916\n",
      "Number of iterations: 56\n"
     ]
    }
   ],
   "source": [
    "vqe = VQE(\n",
    "        hamiltonian=hamiltonian,\n",
    "        executor=executor,\n",
    "        num_params=2*num_qubits, # Number of parameters in the linear entangled ansatz\n",
    "    )\n",
    "\n",
    "print(\"\\nRunning VQE optimization...\")\n",
    "vqe_energy = vqe.run(\n",
    "    max_iterations=1000,\n",
    "    verbose=True\n",
    "    )"
   ]
  },
  {
   "cell_type": "markdown",
   "metadata": {},
   "source": [
    "Here we get the optimal parameters and compare with exact solution"
   ]
  },
  {
   "cell_type": "code",
   "execution_count": 39,
   "metadata": {},
   "outputs": [],
   "source": [
    "optimal_params = vqe.get_optimal_parameters()\n",
    "comparison = vqe.compare_with_exact(exact_energy)"
   ]
  },
  {
   "cell_type": "code",
   "execution_count": 40,
   "metadata": {},
   "outputs": [
    {
     "name": "stdout",
     "output_type": "stream",
     "text": [
      "\n",
      "Optimization complete!\n",
      "Final energy: -1.080916\n",
      "Optimal parameters: [1.63721187 1.56472115 1.50525886 1.64719084]\n",
      "Number of iterations: 56\n",
      "Exact ground state energy: -1.081406+0.000000j\n",
      "Energy difference: 0.000490\n"
     ]
    }
   ],
   "source": [
    "print(f\"\\nOptimization complete!\")\n",
    "print(f\"Final energy: {vqe_energy:.6f}\")\n",
    "print(f\"Optimal parameters: {optimal_params}\")\n",
    "print(f\"Number of iterations: {vqe.optimization_result.nfev}\")\n",
    "print(f\"Exact ground state energy: {exact_energy:.6f}\")\n",
    "print(f\"Energy difference: {comparison['absolute_error']:.6f}\")"
   ]
  },
  {
   "cell_type": "code",
   "execution_count": 41,
   "metadata": {},
   "outputs": [
    {
     "name": "stdout",
     "output_type": "stream",
     "text": [
      "\n",
      "Plotting convergence history...\n"
     ]
    },
    {
     "data": {
      "image/png": "[encoded data removed]",
      "text/plain": [
       "<Figure size 1000x600 with 1 Axes>"
      ]
     },
     "metadata": {},
     "output_type": "display_data"
    }
   ],
   "source": [
    "print(\"\\nPlotting convergence history...\")\n",
    "plt.figure(figsize=(10, 6))\n",
    "iterations = range(len(vqe.energy_history))\n",
    "plt.plot(iterations, vqe.energy_history, 'o-', label='VQE Energy')\n",
    "plt.axhline(y=exact_energy, color='r', linestyle='--', label='Exact Energy')\n",
    "plt.xlabel('Iteration')\n",
    "plt.ylabel('Energy')\n",
    "plt.title('VQE Convergence')\n",
    "plt.legend()\n",
    "plt.grid(True, alpha=0.3)\n",
    "#plt.savefig('vqe_convergence.png')\n",
    "#print(\"Convergence plot saved as 'vqe_convergence.png'\")"
   ]
  },
  {
   "cell_type": "code",
   "execution_count": null,
   "metadata": {},
   "outputs": [],
   "source": []
  }
 ],
 "metadata": {
  "kernelspec": {
   "display_name": "qlass",
   "language": "python",
   "name": "python3"
  },
  "language_info": {
   "codemirror_mode": {
    "name": "ipython",
    "version": 3
   },
   "file_extension": ".py",
   "mimetype": "text/x-python",
   "name": "python",
   "nbconvert_exporter": "python",
   "pygments_lexer": "ipython3",
   "version": "3.13.3"
  }
 },
 "nbformat": 4,
 "nbformat_minor": 2
}
